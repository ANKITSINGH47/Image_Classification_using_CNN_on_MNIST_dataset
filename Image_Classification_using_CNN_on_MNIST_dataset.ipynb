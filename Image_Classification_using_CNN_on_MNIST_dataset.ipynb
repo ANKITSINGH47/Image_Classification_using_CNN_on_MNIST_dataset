{
  "nbformat": 4,
  "nbformat_minor": 0,
  "metadata": {
    "colab": {
      "provenance": []
    },
    "kernelspec": {
      "name": "python3",
      "display_name": "Python 3"
    },
    "language_info": {
      "name": "python"
    }
  },
  "cells": [
    {
      "cell_type": "code",
      "execution_count": null,
      "metadata": {
        "id": "XOrYtU4gCkY5"
      },
      "outputs": [],
      "source": [
        "import tensorflow as tf\n",
        "import numpy as np\n",
        "import matplotlib.pyplot as plt\n",
        "from tensorflow.keras.layers import Input,Conv2D,Dense,Flatten,Dropout\n",
        "from tensorflow.keras.models import Model"
      ]
    },
    {
      "cell_type": "code",
      "source": [
        "mnist= tf.keras.datasets.fashion_mnist\n",
        "(x_train,y_train),(x_test,y_test)= mnist.load_data()"
      ],
      "metadata": {
        "colab": {
          "base_uri": "https://localhost:8080/"
        },
        "id": "aQxhIaoYDuYz",
        "outputId": "a1a66b63-919c-4cd4-a902-caadbde51cd8"
      },
      "execution_count": null,
      "outputs": [
        {
          "output_type": "stream",
          "name": "stdout",
          "text": [
            "Downloading data from https://storage.googleapis.com/tensorflow/tf-keras-datasets/train-labels-idx1-ubyte.gz\n",
            "29515/29515 [==============================] - 0s 0us/step\n",
            "Downloading data from https://storage.googleapis.com/tensorflow/tf-keras-datasets/train-images-idx3-ubyte.gz\n",
            "26421880/26421880 [==============================] - 0s 0us/step\n",
            "Downloading data from https://storage.googleapis.com/tensorflow/tf-keras-datasets/t10k-labels-idx1-ubyte.gz\n",
            "5148/5148 [==============================] - 0s 0us/step\n",
            "Downloading data from https://storage.googleapis.com/tensorflow/tf-keras-datasets/t10k-images-idx3-ubyte.gz\n",
            "4422102/4422102 [==============================] - 0s 0us/step\n"
          ]
        }
      ]
    },
    {
      "cell_type": "code",
      "source": [
        "x_train,x_test= x_train/255.0,x_test/255.0\n",
        "print(x_train.shape)"
      ],
      "metadata": {
        "colab": {
          "base_uri": "https://localhost:8080/"
        },
        "id": "8UnCsrjcECrM",
        "outputId": "90ea0118-70fc-4b67-cde7-21e1540f39d2"
      },
      "execution_count": null,
      "outputs": [
        {
          "output_type": "stream",
          "name": "stdout",
          "text": [
            "(60000, 28, 28)\n"
          ]
        }
      ]
    },
    {
      "cell_type": "code",
      "source": [
        "print(x_train[0].shape)"
      ],
      "metadata": {
        "colab": {
          "base_uri": "https://localhost:8080/"
        },
        "id": "_Cn6LgaVEPEi",
        "outputId": "91069b3a-22a8-44d7-8a49-cff1ca27a2aa"
      },
      "execution_count": null,
      "outputs": [
        {
          "output_type": "stream",
          "name": "stdout",
          "text": [
            "(28, 28)\n"
          ]
        }
      ]
    },
    {
      "cell_type": "code",
      "source": [
        "#expand the dimension to 3\n",
        "x_train= np.expand_dims(x_train,-1)\n",
        "x_test= np.expand_dims(x_test,-1)\n",
        "print(x_train.shape)"
      ],
      "metadata": {
        "colab": {
          "base_uri": "https://localhost:8080/"
        },
        "id": "-N3yBPcpEbxW",
        "outputId": "2e31efad-26be-4bcb-cc82-fbcd2994c6be"
      },
      "execution_count": null,
      "outputs": [
        {
          "output_type": "stream",
          "name": "stdout",
          "text": [
            "(60000, 28, 28, 1)\n"
          ]
        }
      ]
    },
    {
      "cell_type": "code",
      "source": [
        "k=len(set(y_train))\n",
        "print(k)"
      ],
      "metadata": {
        "colab": {
          "base_uri": "https://localhost:8080/"
        },
        "id": "mdeSwGMOFU-E",
        "outputId": "43ac4a53-4188-4f08-a49b-0ca6baba87ac"
      },
      "execution_count": null,
      "outputs": [
        {
          "output_type": "stream",
          "name": "stdout",
          "text": [
            "10\n"
          ]
        }
      ]
    },
    {
      "cell_type": "code",
      "source": [
        "x_train[0].shape"
      ],
      "metadata": {
        "colab": {
          "base_uri": "https://localhost:8080/"
        },
        "id": "BI5Po625HVG0",
        "outputId": "074e5b05-3847-4882-c53a-0dd1c3a327df"
      },
      "execution_count": null,
      "outputs": [
        {
          "output_type": "execute_result",
          "data": {
            "text/plain": [
              "(28, 28, 1)"
            ]
          },
          "metadata": {},
          "execution_count": 7
        }
      ]
    },
    {
      "cell_type": "code",
      "source": [
        "\n",
        "i= Input(shape=x_train[0].shape)\n",
        "x= Conv2D(32,(3,3),strides=2,activation='relu')(i)\n",
        "x= Conv2D(64,(3,3),strides=2,activation='relu')(x)\n",
        "x= Conv2D(128,(3,3),strides=2,activation='relu')(x)\n",
        "x=Flatten()(x)\n",
        "x=Dropout(0.2)(x)\n",
        "x=Dense(512,activation='relu')(x)\n",
        "x=Dropout(0.2)(x)\n",
        "x=Dense(k,activation='softmax')(x)\n",
        "model=Model(i,x)\n"
      ],
      "metadata": {
        "id": "ZYOivc3oFdVU"
      },
      "execution_count": null,
      "outputs": []
    },
    {
      "cell_type": "code",
      "source": [
        "model.compile(optimizer='adam',loss='sparse_categorical_crossentropy',metrics=['accuracy'])"
      ],
      "metadata": {
        "id": "5tl2pRLqH7cr"
      },
      "execution_count": null,
      "outputs": []
    },
    {
      "cell_type": "code",
      "source": [
        "r= model.fit(x_train,y_train,validation_data=(x_test,y_test),epochs=15)"
      ],
      "metadata": {
        "colab": {
          "base_uri": "https://localhost:8080/"
        },
        "id": "D6p1n4e1Jcsl",
        "outputId": "ffd95b4d-d592-4c1d-a377-d25986a8589e"
      },
      "execution_count": null,
      "outputs": [
        {
          "output_type": "stream",
          "name": "stdout",
          "text": [
            "Epoch 1/15\n",
            "1875/1875 [==============================] - 36s 19ms/step - loss: 0.5130 - accuracy: 0.8109 - val_loss: 0.3918 - val_accuracy: 0.8571\n",
            "Epoch 2/15\n",
            "1875/1875 [==============================] - 34s 18ms/step - loss: 0.3536 - accuracy: 0.8670 - val_loss: 0.3366 - val_accuracy: 0.8802\n",
            "Epoch 3/15\n",
            "1875/1875 [==============================] - 34s 18ms/step - loss: 0.3066 - accuracy: 0.8847 - val_loss: 0.3343 - val_accuracy: 0.8747\n",
            "Epoch 4/15\n",
            "1875/1875 [==============================] - 34s 18ms/step - loss: 0.2763 - accuracy: 0.8957 - val_loss: 0.3147 - val_accuracy: 0.8843\n",
            "Epoch 5/15\n",
            "1875/1875 [==============================] - 34s 18ms/step - loss: 0.2495 - accuracy: 0.9063 - val_loss: 0.2872 - val_accuracy: 0.8978\n",
            "Epoch 6/15\n",
            "1875/1875 [==============================] - 34s 18ms/step - loss: 0.2251 - accuracy: 0.9159 - val_loss: 0.3072 - val_accuracy: 0.8916\n",
            "Epoch 7/15\n",
            "1875/1875 [==============================] - 33s 18ms/step - loss: 0.2085 - accuracy: 0.9211 - val_loss: 0.2976 - val_accuracy: 0.8967\n",
            "Epoch 8/15\n",
            "1875/1875 [==============================] - 32s 17ms/step - loss: 0.1924 - accuracy: 0.9274 - val_loss: 0.3155 - val_accuracy: 0.8934\n",
            "Epoch 9/15\n",
            "1875/1875 [==============================] - 34s 18ms/step - loss: 0.1792 - accuracy: 0.9318 - val_loss: 0.3148 - val_accuracy: 0.8955\n",
            "Epoch 10/15\n",
            "1875/1875 [==============================] - 33s 18ms/step - loss: 0.1658 - accuracy: 0.9377 - val_loss: 0.3189 - val_accuracy: 0.9030\n",
            "Epoch 11/15\n",
            "1875/1875 [==============================] - 33s 18ms/step - loss: 0.1558 - accuracy: 0.9404 - val_loss: 0.3299 - val_accuracy: 0.9020\n",
            "Epoch 12/15\n",
            "1875/1875 [==============================] - 34s 18ms/step - loss: 0.1472 - accuracy: 0.9435 - val_loss: 0.3573 - val_accuracy: 0.9039\n",
            "Epoch 13/15\n",
            "1875/1875 [==============================] - 34s 18ms/step - loss: 0.1387 - accuracy: 0.9482 - val_loss: 0.3298 - val_accuracy: 0.9001\n",
            "Epoch 14/15\n",
            "1875/1875 [==============================] - 34s 18ms/step - loss: 0.1321 - accuracy: 0.9488 - val_loss: 0.3425 - val_accuracy: 0.9001\n",
            "Epoch 15/15\n",
            "1875/1875 [==============================] - 34s 18ms/step - loss: 0.1238 - accuracy: 0.9528 - val_loss: 0.3629 - val_accuracy: 0.9011\n"
          ]
        }
      ]
    },
    {
      "cell_type": "code",
      "source": [
        "plt.plot(r.history['loss'],label='loss')\n",
        "plt.plot(r.history['val_loss'],label='val_loss')\n",
        "plt.legend()"
      ],
      "metadata": {
        "colab": {
          "base_uri": "https://localhost:8080/",
          "height": 282
        },
        "id": "Kr3Td-n4JrMp",
        "outputId": "12e8f7e1-f3c9-4dbc-9bb6-12dc855673b8"
      },
      "execution_count": null,
      "outputs": [
        {
          "output_type": "execute_result",
          "data": {
            "text/plain": [
              "<matplotlib.legend.Legend at 0x7f9512316580>"
            ]
          },
          "metadata": {},
          "execution_count": 32
        },
        {
          "output_type": "display_data",
          "data": {
            "text/plain": [
              "<Figure size 432x288 with 1 Axes>"
            ],
            "image/png": "[encoded data removed]"
          },
          "metadata": {
            "needs_background": "light"
          }
        }
      ]
    },
    {
      "cell_type": "code",
      "source": [
        "plt.plot(r.history['accuracy'],label='accuracy')\n",
        "plt.plot(r.history['val_accuracy'],label='val_accuracy')\n",
        "plt.legend()"
      ],
      "metadata": {
        "colab": {
          "base_uri": "https://localhost:8080/",
          "height": 282
        },
        "id": "g_cgyT3XKUpn",
        "outputId": "2979698a-35c6-4d98-8133-6dea34998e80"
      },
      "execution_count": null,
      "outputs": [
        {
          "output_type": "execute_result",
          "data": {
            "text/plain": [
              "<matplotlib.legend.Legend at 0x7f95122c5d00>"
            ]
          },
          "metadata": {},
          "execution_count": 33
        },
        {
          "output_type": "display_data",
          "data": {
            "text/plain": [
              "<Figure size 432x288 with 1 Axes>"
            ],
            "image/png": "[encoded data removed]"
          },
          "metadata": {
            "needs_background": "light"
          }
        }
      ]
    },
    {
      "cell_type": "code",
      "source": [
        "print(model.evaluate(x_test,y_test))"
      ],
      "metadata": {
        "colab": {
          "base_uri": "https://localhost:8080/"
        },
        "id": "RQbFhoJMOdci",
        "outputId": "2e8eba15-b43d-432f-db79-c13a03fa3796"
      },
      "execution_count": null,
      "outputs": [
        {
          "output_type": "stream",
          "name": "stdout",
          "text": [
            "313/313 [==============================] - 2s 7ms/step - loss: 0.3629 - accuracy: 0.9011\n",
            "[0.3628824055194855, 0.9010999798774719]\n"
          ]
        }
      ]
    }
  ]
}